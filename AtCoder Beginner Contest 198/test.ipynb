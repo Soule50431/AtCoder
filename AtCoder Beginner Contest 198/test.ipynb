{
 "cells": [
  {
   "cell_type": "code",
   "execution_count": 11,
   "metadata": {
    "collapsed": true
   },
   "outputs": [
    {
     "name": "stdout",
     "output_type": "stream",
     "text": [
      "[1, 4, 2, 72, 52, 6]\n",
      "1\n",
      "[2, 4, 6, 72, 52]\n",
      "2\n",
      "[4, 52, 6, 72]\n",
      "4\n",
      "[6, 52, 72]\n"
     ]
    }
   ],
   "source": [
    "from heapq import *\n",
    "\n",
    "a = [1, 4,6,72,52,2]\n",
    "heapify(a)\n",
    "print(a)\n",
    "\n",
    "print(heappop(a))\n",
    "print(a)\n",
    "print(heappop(a))\n",
    "print(a)\n",
    "print(heappop(a))\n",
    "print(a)"
   ]
  },
  {
   "cell_type": "code",
   "execution_count": 18,
   "outputs": [
    {
     "name": "stdout",
     "output_type": "stream",
     "text": [
      "[[1, 2], [2, 4], [2, 7], [7, 3]]\n",
      "[[2, 7], [7, 3]]\n",
      "[[1, 2], [2, 4]]\n",
      "[[1, 2], [2, 4]]\n"
     ]
    }
   ],
   "source": [
    "b = [[2,4],[1,2], [2,7],[7,3]]\n",
    "c = []\n",
    "heapify(b)\n",
    "print(b)\n",
    "heappush(c, heappop(b))\n",
    "heappush(c, heappop(b))\n",
    "print(b)\n",
    "print(c)\n",
    "b = c\n",
    "print(b)"
   ],
   "metadata": {
    "collapsed": false,
    "pycharm": {
     "name": "#%%\n"
    }
   }
  },
  {
   "cell_type": "code",
   "execution_count": null,
   "outputs": [],
   "source": [],
   "metadata": {
    "collapsed": false,
    "pycharm": {
     "name": "#%%\n"
    }
   }
  }
 ],
 "metadata": {
  "kernelspec": {
   "display_name": "Python 3",
   "language": "python",
   "name": "python3"
  },
  "language_info": {
   "codemirror_mode": {
    "name": "ipython",
    "version": 2
   },
   "file_extension": ".py",
   "mimetype": "text/x-python",
   "name": "python",
   "nbconvert_exporter": "python",
   "pygments_lexer": "ipython2",
   "version": "2.7.6"
  }
 },
 "nbformat": 4,
 "nbformat_minor": 0
}